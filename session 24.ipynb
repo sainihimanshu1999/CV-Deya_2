{
 "cells": [
  {
   "cell_type": "code",
   "execution_count": 2,
   "id": "dedaa651",
   "metadata": {},
   "outputs": [],
   "source": [
    "# functions\n",
    "# write code again and again"
   ]
  },
  {
   "cell_type": "code",
   "execution_count": 3,
   "id": "051644af",
   "metadata": {},
   "outputs": [],
   "source": [
    "# syntax of function is\n",
    "# def function_name(arguments...):\n",
    "    #code to execute\n",
    "    #return statement"
   ]
  },
  {
   "cell_type": "code",
   "execution_count": 4,
   "id": "3ed5c5e4",
   "metadata": {},
   "outputs": [],
   "source": [
    "# function for the sum of two numbers"
   ]
  },
  {
   "cell_type": "code",
   "execution_count": 5,
   "id": "48f444bd",
   "metadata": {},
   "outputs": [],
   "source": [
    "def deya(a,b):\n",
    "    return a+b\n",
    "\n",
    "# this function is taking two inputs\n",
    "# return sum of that inputs"
   ]
  },
  {
   "cell_type": "code",
   "execution_count": 6,
   "id": "f755d6dc",
   "metadata": {},
   "outputs": [
    {
     "data": {
      "text/plain": [
       "9"
      ]
     },
     "execution_count": 6,
     "metadata": {},
     "output_type": "execute_result"
    }
   ],
   "source": [
    "deya(5,4)"
   ]
  },
  {
   "cell_type": "code",
   "execution_count": 7,
   "id": "352a6bc0",
   "metadata": {},
   "outputs": [],
   "source": [
    "# while loop\n",
    "# while condition:\n",
    "    #code runs\n",
    "    # increment of decrement happen"
   ]
  },
  {
   "cell_type": "code",
   "execution_count": 8,
   "id": "7433160c",
   "metadata": {},
   "outputs": [
    {
     "name": "stdout",
     "output_type": "stream",
     "text": [
      "1\n",
      "2\n",
      "3\n",
      "4\n",
      "5\n",
      "6\n",
      "7\n",
      "8\n",
      "9\n",
      "10\n"
     ]
    }
   ],
   "source": [
    "# i have to print counting from 1 to 10\n",
    "print(1)\n",
    "print(2)\n",
    "print(3)\n",
    "print(4)\n",
    "print(5)\n",
    "print(6)\n",
    "print(7)\n",
    "print(8)\n",
    "print(9)\n",
    "print(10)"
   ]
  },
  {
   "cell_type": "code",
   "execution_count": 9,
   "id": "a704a58d",
   "metadata": {},
   "outputs": [],
   "source": [
    "# by using while loop\n"
   ]
  },
  {
   "cell_type": "code",
   "execution_count": 10,
   "id": "d7e607ff",
   "metadata": {},
   "outputs": [
    {
     "name": "stdout",
     "output_type": "stream",
     "text": [
      "0\n",
      "1\n",
      "2\n",
      "3\n",
      "4\n",
      "5\n",
      "6\n",
      "7\n",
      "8\n",
      "9\n",
      "10\n"
     ]
    }
   ],
   "source": [
    "i = 0\n",
    "\n",
    "while i<=10:\n",
    "    print(i)\n",
    "    i = i +1\n",
    "    #i = oldi +1\n",
    "    #i= 0+1\n",
    "    #i = 1+1\n",
    "    \n",
    "\n",
    "    "
   ]
  },
  {
   "cell_type": "code",
   "execution_count": 11,
   "id": "4ae7f1ba",
   "metadata": {},
   "outputs": [],
   "source": [
    "a = ['potatoes','bean','cereal','car','truck']"
   ]
  },
  {
   "cell_type": "code",
   "execution_count": 12,
   "id": "215f158f",
   "metadata": {},
   "outputs": [
    {
     "name": "stdout",
     "output_type": "stream",
     "text": [
      "potatoes\n",
      "bean\n",
      "cereal\n",
      "car\n",
      "truck\n"
     ]
    }
   ],
   "source": [
    "print(a[0])\n",
    "print(a[1])\n",
    "print(a[2])\n",
    "print(a[3])\n",
    "print(a[4])"
   ]
  },
  {
   "cell_type": "code",
   "execution_count": 13,
   "id": "ad95449c",
   "metadata": {},
   "outputs": [
    {
     "name": "stdout",
     "output_type": "stream",
     "text": [
      "5\n"
     ]
    }
   ],
   "source": [
    "# len function gives the length of the list\n",
    "\n",
    "print(len(a))"
   ]
  },
  {
   "cell_type": "code",
   "execution_count": 15,
   "id": "9b864cbe",
   "metadata": {},
   "outputs": [
    {
     "name": "stdout",
     "output_type": "stream",
     "text": [
      "potatoes\n",
      "bean\n",
      "cereal\n",
      "car\n",
      "truck\n"
     ]
    }
   ],
   "source": [
    "i = 0\n",
    "while i<len(a):\n",
    "    print(a[i])\n",
    "    i = i+1\n",
    "    # i =0 # print(a[0])- po\n",
    "    \n",
    "    "
   ]
  },
  {
   "cell_type": "code",
   "execution_count": null,
   "id": "efa6e52d",
   "metadata": {},
   "outputs": [],
   "source": []
  }
 ],
 "metadata": {
  "kernelspec": {
   "display_name": "Python 3 (ipykernel)",
   "language": "python",
   "name": "python3"
  },
  "language_info": {
   "codemirror_mode": {
    "name": "ipython",
    "version": 3
   },
   "file_extension": ".py",
   "mimetype": "text/x-python",
   "name": "python",
   "nbconvert_exporter": "python",
   "pygments_lexer": "ipython3",
   "version": "3.9.7"
  }
 },
 "nbformat": 4,
 "nbformat_minor": 5
}
