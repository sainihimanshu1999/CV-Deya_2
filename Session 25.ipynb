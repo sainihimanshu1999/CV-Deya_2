{
 "cells": [
  {
   "cell_type": "code",
   "execution_count": 4,
   "id": "bdf2309e",
   "metadata": {},
   "outputs": [],
   "source": [
    "# syntax\n",
    "# why do we use funtions\n",
    "# don minise our work of repeatability"
   ]
  },
  {
   "cell_type": "code",
   "execution_count": 2,
   "id": "b4c7c635",
   "metadata": {},
   "outputs": [
    {
     "name": "stdout",
     "output_type": "stream",
     "text": [
      "13\n"
     ]
    }
   ],
   "source": [
    "print(5+8)"
   ]
  },
  {
   "cell_type": "code",
   "execution_count": 3,
   "id": "c1841b3b",
   "metadata": {},
   "outputs": [
    {
     "name": "stdout",
     "output_type": "stream",
     "text": [
      "872\n"
     ]
    }
   ],
   "source": [
    "print(89+783)"
   ]
  },
  {
   "cell_type": "code",
   "execution_count": 5,
   "id": "4b512f69",
   "metadata": {},
   "outputs": [],
   "source": [
    "#syntax"
   ]
  },
  {
   "cell_type": "code",
   "execution_count": 6,
   "id": "b47bd5d4",
   "metadata": {},
   "outputs": [],
   "source": [
    "# def func_name(arguments):\n",
    "    # return "
   ]
  },
  {
   "cell_type": "code",
   "execution_count": 7,
   "id": "41593193",
   "metadata": {},
   "outputs": [],
   "source": [
    "# a function to add two numbers"
   ]
  },
  {
   "cell_type": "code",
   "execution_count": 8,
   "id": "01e22fde",
   "metadata": {},
   "outputs": [],
   "source": [
    "def deya(a,b):\n",
    "    return a+b"
   ]
  },
  {
   "cell_type": "code",
   "execution_count": 9,
   "id": "6f217f16",
   "metadata": {},
   "outputs": [
    {
     "data": {
      "text/plain": [
       "8"
      ]
     },
     "execution_count": 9,
     "metadata": {},
     "output_type": "execute_result"
    }
   ],
   "source": [
    "deya(5,3)"
   ]
  },
  {
   "cell_type": "code",
   "execution_count": 10,
   "id": "33464443",
   "metadata": {},
   "outputs": [],
   "source": [
    "# loops - start and end, "
   ]
  },
  {
   "cell_type": "code",
   "execution_count": 11,
   "id": "606bf326",
   "metadata": {},
   "outputs": [
    {
     "name": "stdout",
     "output_type": "stream",
     "text": [
      "1\n"
     ]
    }
   ],
   "source": [
    "print(1)"
   ]
  },
  {
   "cell_type": "code",
   "execution_count": 12,
   "id": "86b2dfdc",
   "metadata": {},
   "outputs": [
    {
     "name": "stdout",
     "output_type": "stream",
     "text": [
      "2\n"
     ]
    }
   ],
   "source": [
    "print(2)"
   ]
  },
  {
   "cell_type": "code",
   "execution_count": 13,
   "id": "7c4f308c",
   "metadata": {},
   "outputs": [
    {
     "name": "stdout",
     "output_type": "stream",
     "text": [
      "0\n",
      "1\n",
      "2\n",
      "3\n",
      "4\n",
      "5\n",
      "6\n",
      "7\n",
      "8\n",
      "9\n",
      "10\n",
      "11\n",
      "12\n",
      "13\n",
      "14\n",
      "15\n",
      "16\n",
      "17\n",
      "18\n",
      "19\n",
      "20\n",
      "21\n",
      "22\n",
      "23\n",
      "24\n",
      "25\n",
      "26\n",
      "27\n",
      "28\n",
      "29\n",
      "30\n"
     ]
    }
   ],
   "source": [
    "i= 0\n",
    "while i<=30:\n",
    "    print(i)\n",
    "    i = i+1\n",
    "    \n",
    "    #1 st iter-  0\n",
    "    # 2 nd iter- 1\n",
    "    # "
   ]
  },
  {
   "cell_type": "code",
   "execution_count": 14,
   "id": "f32330c8",
   "metadata": {},
   "outputs": [],
   "source": [
    "lst = ['hi','bye','bai','potato','carrot']"
   ]
  },
  {
   "cell_type": "code",
   "execution_count": 15,
   "id": "ff2f5c6f",
   "metadata": {},
   "outputs": [
    {
     "name": "stdout",
     "output_type": "stream",
     "text": [
      "['hi', 'bye', 'bai', 'potato', 'carrot']\n"
     ]
    }
   ],
   "source": [
    "print(lst)"
   ]
  },
  {
   "cell_type": "code",
   "execution_count": 16,
   "id": "d34834a3",
   "metadata": {},
   "outputs": [
    {
     "name": "stdout",
     "output_type": "stream",
     "text": [
      "potato\n"
     ]
    }
   ],
   "source": [
    "print(lst[3])"
   ]
  },
  {
   "cell_type": "code",
   "execution_count": 17,
   "id": "74438aae",
   "metadata": {},
   "outputs": [
    {
     "name": "stdout",
     "output_type": "stream",
     "text": [
      "5\n"
     ]
    }
   ],
   "source": [
    "print(len(lst))"
   ]
  },
  {
   "cell_type": "code",
   "execution_count": 19,
   "id": "41333d98",
   "metadata": {},
   "outputs": [
    {
     "name": "stdout",
     "output_type": "stream",
     "text": [
      "hi\n",
      "bye\n",
      "bai\n",
      "potato\n",
      "carrot\n"
     ]
    }
   ],
   "source": [
    "i = 0\n",
    "\n",
    "while i < len(lst):\n",
    "    print(lst[i])\n",
    "    i = i+1\n",
    "    \n",
    "    # 1st hi lst[0]\n",
    "    # 2nd bye lst[1]\n",
    "    "
   ]
  },
  {
   "cell_type": "code",
   "execution_count": 20,
   "id": "8c03e5e1",
   "metadata": {},
   "outputs": [
    {
     "name": "stdout",
     "output_type": "stream",
     "text": [
      "Please enter anything you wantumbrella\n",
      "umbrella\n"
     ]
    }
   ],
   "source": [
    "x = input('Please enter anything you want')\n",
    "print(x)"
   ]
  },
  {
   "cell_type": "code",
   "execution_count": 25,
   "id": "6c774635",
   "metadata": {},
   "outputs": [
    {
     "name": "stdout",
     "output_type": "stream",
     "text": [
      "Please enter number4\n",
      "4\n",
      "<class 'int'>\n"
     ]
    }
   ],
   "source": [
    "num = int(input('Please enter number'))\n",
    "print(num)\n",
    "print(type(num))"
   ]
  },
  {
   "cell_type": "code",
   "execution_count": 23,
   "id": "8393b323",
   "metadata": {},
   "outputs": [
    {
     "name": "stdout",
     "output_type": "stream",
     "text": [
      "even\n"
     ]
    }
   ],
   "source": [
    "if num%2 == 0:\n",
    "    print('even')\n",
    "    \n",
    "else:\n",
    "    print('odd')"
   ]
  },
  {
   "cell_type": "code",
   "execution_count": null,
   "id": "112c35a8",
   "metadata": {},
   "outputs": [],
   "source": []
  }
 ],
 "metadata": {
  "kernelspec": {
   "display_name": "Python 3 (ipykernel)",
   "language": "python",
   "name": "python3"
  },
  "language_info": {
   "codemirror_mode": {
    "name": "ipython",
    "version": 3
   },
   "file_extension": ".py",
   "mimetype": "text/x-python",
   "name": "python",
   "nbconvert_exporter": "python",
   "pygments_lexer": "ipython3",
   "version": "3.9.7"
  }
 },
 "nbformat": 4,
 "nbformat_minor": 5
}
