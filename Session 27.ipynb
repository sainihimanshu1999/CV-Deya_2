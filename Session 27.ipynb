{
 "cells": [
  {
   "cell_type": "code",
   "execution_count": 1,
   "id": "bcbf4a9e",
   "metadata": {},
   "outputs": [],
   "source": [
    "# CLASSES AND OBJECT ORIENTED PROGRAMMING(OOPS)"
   ]
  },
  {
   "cell_type": "code",
   "execution_count": 2,
   "id": "0482ec33",
   "metadata": {},
   "outputs": [],
   "source": [
    "a = ['deya',1,'hello',344]\n",
    "# a is the object of this class list\n",
    "# ['deya',1,'hello',344] is an instance of this object of class of list"
   ]
  },
  {
   "cell_type": "code",
   "execution_count": 3,
   "id": "e9f9aa4a",
   "metadata": {},
   "outputs": [
    {
     "name": "stdout",
     "output_type": "stream",
     "text": [
      "['deya', 1, 'hello', 344]\n"
     ]
    }
   ],
   "source": [
    "print(a)"
   ]
  },
  {
   "cell_type": "code",
   "execution_count": 4,
   "id": "c2d36825",
   "metadata": {},
   "outputs": [
    {
     "name": "stdout",
     "output_type": "stream",
     "text": [
      "<class 'list'>\n"
     ]
    }
   ],
   "source": [
    "print(type(a))"
   ]
  },
  {
   "cell_type": "code",
   "execution_count": 5,
   "id": "8ac64ea2",
   "metadata": {},
   "outputs": [],
   "source": [
    "# list in an inbuilt class in python"
   ]
  },
  {
   "cell_type": "code",
   "execution_count": 6,
   "id": "119c3b9f",
   "metadata": {},
   "outputs": [],
   "source": [
    "a.append('Himanshu')"
   ]
  },
  {
   "cell_type": "code",
   "execution_count": 7,
   "id": "d7968d12",
   "metadata": {},
   "outputs": [
    {
     "name": "stdout",
     "output_type": "stream",
     "text": [
      "['deya', 1, 'hello', 344, 'Himanshu']\n"
     ]
    }
   ],
   "source": [
    "print(a)"
   ]
  },
  {
   "cell_type": "code",
   "execution_count": 8,
   "id": "a75d37be",
   "metadata": {},
   "outputs": [],
   "source": [
    "# today we are going to create our own classese"
   ]
  },
  {
   "cell_type": "code",
   "execution_count": 9,
   "id": "b4020a98",
   "metadata": {},
   "outputs": [],
   "source": [
    "# we create the objects of these classes\n",
    "# we can create the methods as well"
   ]
  },
  {
   "cell_type": "code",
   "execution_count": 10,
   "id": "b53d6fc5",
   "metadata": {},
   "outputs": [],
   "source": [
    "a = []\n",
    "b = {}\n",
    "c = 'himanshu'\n",
    "d = 1"
   ]
  },
  {
   "cell_type": "code",
   "execution_count": 13,
   "id": "cd9689c1",
   "metadata": {},
   "outputs": [
    {
     "name": "stdout",
     "output_type": "stream",
     "text": [
      "<class 'list'>\n",
      "<class 'dict'>\n",
      "<class 'str'>\n",
      "<class 'int'>\n"
     ]
    }
   ],
   "source": [
    "print(type(a))\n",
    "print(type(b))\n",
    "print(type(c))\n",
    "print(type(d))"
   ]
  },
  {
   "cell_type": "code",
   "execution_count": 14,
   "id": "7614b7a6",
   "metadata": {},
   "outputs": [],
   "source": [
    "# CREATING A CLASS"
   ]
  },
  {
   "cell_type": "code",
   "execution_count": 48,
   "id": "291054eb",
   "metadata": {},
   "outputs": [],
   "source": [
    "class Deya:\n",
    "    \n",
    "    #class object attributes\n",
    "    color = 'Yellow'\n",
    "    \n",
    "    # intialization functino\n",
    "    def __init__(self,name,age):\n",
    "        self.name = name\n",
    "        self.age = age"
   ]
  },
  {
   "cell_type": "code",
   "execution_count": 45,
   "id": "1a5f562d",
   "metadata": {},
   "outputs": [],
   "source": [
    "x = Deya('Himanshu',22)\n",
    "y = Deya('Rahul',12)\n",
    "z=  Deya('kate',45)"
   ]
  },
  {
   "cell_type": "code",
   "execution_count": 47,
   "id": "52a34ffe",
   "metadata": {
    "scrolled": true
   },
   "outputs": [
    {
     "name": "stdout",
     "output_type": "stream",
     "text": [
      "Rahul 12 Yellow\n",
      "Himanshu\n",
      "kate Yellow\n"
     ]
    }
   ],
   "source": [
    "print(y.name,y.age,y.color)\n",
    "print(x.name)\n",
    "print(z.name,z.color)"
   ]
  },
  {
   "cell_type": "code",
   "execution_count": 29,
   "id": "c514d38c",
   "metadata": {},
   "outputs": [
    {
     "name": "stdout",
     "output_type": "stream",
     "text": [
      "<class '__main__.Deya'>\n"
     ]
    }
   ],
   "source": [
    "print(type(x))"
   ]
  },
  {
   "cell_type": "code",
   "execution_count": 95,
   "id": "4b24f8b8",
   "metadata": {},
   "outputs": [],
   "source": [
    "class Account:\n",
    "    \n",
    "    nationality = 'INDIAN'\n",
    "    \n",
    "    def __init__(self,name,age,balance=0):\n",
    "        self.name = name\n",
    "        self.age=age\n",
    "        self.balance=balance\n",
    "        \n",
    "    def update_bal(self,add=0):\n",
    "        self.balance = self.balance+add\n",
    "        \n",
    "        \n",
    "    def withdraw(self,draw=0):\n",
    "        self.balance = self.balance-draw\n",
    "        \n",
    "        \n",
    "    def m(self):\n",
    "        self.balance = self.balance*2\n",
    "        "
   ]
  },
  {
   "cell_type": "code",
   "execution_count": 96,
   "id": "5677904a",
   "metadata": {},
   "outputs": [],
   "source": [
    "x = Account('Himanshu',21,80)\n",
    "y = Account('Deya',12)"
   ]
  },
  {
   "cell_type": "code",
   "execution_count": 97,
   "id": "1794d129",
   "metadata": {},
   "outputs": [
    {
     "name": "stdout",
     "output_type": "stream",
     "text": [
      "Himanshu 21 80\n",
      "Deya 12 0\n"
     ]
    }
   ],
   "source": [
    "print(x.name,x.age,x.balance)\n",
    "print(y.name,y.age,y.balance)"
   ]
  },
  {
   "cell_type": "code",
   "execution_count": 98,
   "id": "799d39be",
   "metadata": {},
   "outputs": [
    {
     "name": "stdout",
     "output_type": "stream",
     "text": [
      "100\n"
     ]
    }
   ],
   "source": [
    "x.update_bal(20)\n",
    "\n",
    "print(x.balance)"
   ]
  },
  {
   "cell_type": "code",
   "execution_count": 99,
   "id": "26a9c789",
   "metadata": {},
   "outputs": [],
   "source": [
    "y.update_bal(100)"
   ]
  },
  {
   "cell_type": "code",
   "execution_count": 100,
   "id": "6ac69937",
   "metadata": {},
   "outputs": [
    {
     "name": "stdout",
     "output_type": "stream",
     "text": [
      "100\n"
     ]
    }
   ],
   "source": [
    "print(y.balance)"
   ]
  },
  {
   "cell_type": "code",
   "execution_count": 101,
   "id": "4e62260b",
   "metadata": {},
   "outputs": [
    {
     "name": "stdout",
     "output_type": "stream",
     "text": [
      "100 100\n"
     ]
    }
   ],
   "source": [
    "print(x.balance,y.balance)"
   ]
  },
  {
   "cell_type": "code",
   "execution_count": 102,
   "id": "6a1eaaba",
   "metadata": {},
   "outputs": [],
   "source": [
    "x.withdraw(50)"
   ]
  },
  {
   "cell_type": "code",
   "execution_count": 103,
   "id": "373e6f98",
   "metadata": {},
   "outputs": [
    {
     "name": "stdout",
     "output_type": "stream",
     "text": [
      "50\n"
     ]
    }
   ],
   "source": [
    "print(x.balance)"
   ]
  },
  {
   "cell_type": "code",
   "execution_count": 104,
   "id": "04fc7263",
   "metadata": {},
   "outputs": [
    {
     "name": "stdout",
     "output_type": "stream",
     "text": [
      "50 100\n"
     ]
    }
   ],
   "source": [
    "print(x.balance,y.balance)"
   ]
  },
  {
   "cell_type": "code",
   "execution_count": 105,
   "id": "b3633363",
   "metadata": {},
   "outputs": [],
   "source": [
    "y.m()"
   ]
  },
  {
   "cell_type": "code",
   "execution_count": 106,
   "id": "4f3431c1",
   "metadata": {},
   "outputs": [
    {
     "name": "stdout",
     "output_type": "stream",
     "text": [
      "200\n"
     ]
    }
   ],
   "source": [
    "print(y.balance)"
   ]
  },
  {
   "cell_type": "code",
   "execution_count": null,
   "id": "e31d5448",
   "metadata": {},
   "outputs": [],
   "source": []
  }
 ],
 "metadata": {
  "kernelspec": {
   "display_name": "Python 3 (ipykernel)",
   "language": "python",
   "name": "python3"
  },
  "language_info": {
   "codemirror_mode": {
    "name": "ipython",
    "version": 3
   },
   "file_extension": ".py",
   "mimetype": "text/x-python",
   "name": "python",
   "nbconvert_exporter": "python",
   "pygments_lexer": "ipython3",
   "version": "3.9.7"
  }
 },
 "nbformat": 4,
 "nbformat_minor": 5
}
