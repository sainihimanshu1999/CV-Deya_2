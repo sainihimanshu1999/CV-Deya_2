{
 "cells": [
  {
   "cell_type": "code",
   "execution_count": 1,
   "id": "ddad5d19",
   "metadata": {},
   "outputs": [],
   "source": [
    "# fucntion or program to find if the number is prime or not?"
   ]
  },
  {
   "cell_type": "code",
   "execution_count": 4,
   "id": "bd6aef76",
   "metadata": {},
   "outputs": [],
   "source": [
    "def prim(x):\n",
    "    \n",
    "    if x <= 2 :\n",
    "        return(\"It's a prime number\")\n",
    "        \n",
    "    i = 2\n",
    "    \n",
    "    while i<x:\n",
    "        if x%i == 0:\n",
    "            return('it is not a Prime number')\n",
    "            \n",
    "        i = i+1\n",
    "        \n",
    "        \n",
    "    return('It is a prime number')\n",
    "        \n",
    "    \n",
    "            \n",
    "        "
   ]
  },
  {
   "cell_type": "code",
   "execution_count": 10,
   "id": "ab9ccd61",
   "metadata": {},
   "outputs": [
    {
     "data": {
      "text/plain": [
       "'it is not a Prime number'"
      ]
     },
     "execution_count": 10,
     "metadata": {},
     "output_type": "execute_result"
    }
   ],
   "source": [
    "prim(6)"
   ]
  },
  {
   "cell_type": "code",
   "execution_count": null,
   "id": "cc8d99e3",
   "metadata": {},
   "outputs": [],
   "source": []
  }
 ],
 "metadata": {
  "kernelspec": {
   "display_name": "Python 3 (ipykernel)",
   "language": "python",
   "name": "python3"
  },
  "language_info": {
   "codemirror_mode": {
    "name": "ipython",
    "version": 3
   },
   "file_extension": ".py",
   "mimetype": "text/x-python",
   "name": "python",
   "nbconvert_exporter": "python",
   "pygments_lexer": "ipython3",
   "version": "3.9.7"
  }
 },
 "nbformat": 4,
 "nbformat_minor": 5
}
