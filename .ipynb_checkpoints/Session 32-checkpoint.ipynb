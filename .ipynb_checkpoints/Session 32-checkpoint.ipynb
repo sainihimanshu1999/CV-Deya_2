{
 "cells": [
  {
   "cell_type": "code",
   "execution_count": 1,
   "id": "1272d691",
   "metadata": {},
   "outputs": [],
   "source": [
    "# Tkinter session 23"
   ]
  },
  {
   "cell_type": "code",
   "execution_count": 20,
   "id": "405f7993",
   "metadata": {},
   "outputs": [],
   "source": [
    "from tkinter import *"
   ]
  },
  {
   "cell_type": "code",
   "execution_count": 21,
   "id": "acbd9f19",
   "metadata": {},
   "outputs": [],
   "source": [
    "root = Tk()"
   ]
  },
  {
   "cell_type": "code",
   "execution_count": 22,
   "id": "e8e8f151",
   "metadata": {},
   "outputs": [
    {
     "data": {
      "text/plain": [
       "''"
      ]
     },
     "execution_count": 22,
     "metadata": {},
     "output_type": "execute_result"
    }
   ],
   "source": [
    "root.geometry('300x150')"
   ]
  },
  {
   "cell_type": "code",
   "execution_count": 23,
   "id": "0b90c037",
   "metadata": {},
   "outputs": [],
   "source": [
    "w = Label(root,text='Hi, i am deya',font='50')"
   ]
  },
  {
   "cell_type": "code",
   "execution_count": 24,
   "id": "849fa214",
   "metadata": {},
   "outputs": [],
   "source": [
    "frame = Frame(root)"
   ]
  },
  {
   "cell_type": "code",
   "execution_count": 25,
   "id": "7a556b63",
   "metadata": {},
   "outputs": [],
   "source": [
    "frame.pack()"
   ]
  },
  {
   "cell_type": "code",
   "execution_count": 26,
   "id": "6aba4afc",
   "metadata": {},
   "outputs": [],
   "source": [
    "bottomframe = Frame(root)"
   ]
  },
  {
   "cell_type": "code",
   "execution_count": 27,
   "id": "c0553f41",
   "metadata": {},
   "outputs": [],
   "source": [
    "bottomframe.pack(side=BOTTOM)"
   ]
  },
  {
   "cell_type": "code",
   "execution_count": 28,
   "id": "7f54dbeb",
   "metadata": {},
   "outputs": [],
   "source": [
    "b1_button = Button(frame,text='usr1',fg='red')\n",
    "b1_button.pack(side=LEFT)"
   ]
  },
  {
   "cell_type": "code",
   "execution_count": 29,
   "id": "2270ff07",
   "metadata": {},
   "outputs": [],
   "source": [
    "b2_button = Button(frame,text='usr2',fg='yellow')\n",
    "b2_button.pack(side=LEFT)"
   ]
  },
  {
   "cell_type": "code",
   "execution_count": 30,
   "id": "47023b8c",
   "metadata": {},
   "outputs": [],
   "source": [
    "b3_button = Button(frame,text='usr3',fg='blue')\n",
    "b3_button.pack(side=LEFT)"
   ]
  },
  {
   "cell_type": "code",
   "execution_count": 31,
   "id": "7e3365c9",
   "metadata": {},
   "outputs": [],
   "source": [
    "b4_button = Button(bottomframe,text='usr4',fg='green')\n",
    "b4_button.pack(side=BOTTOM)"
   ]
  },
  {
   "cell_type": "code",
   "execution_count": 32,
   "id": "750e3287",
   "metadata": {},
   "outputs": [],
   "source": [
    "b5_button = Button(bottomframe,text='usr5',fg='green')\n",
    "b5_button.pack(side=BOTTOM)"
   ]
  },
  {
   "cell_type": "code",
   "execution_count": 33,
   "id": "4828943f",
   "metadata": {},
   "outputs": [],
   "source": [
    "b6_button = Button(bottomframe,text='usr6',fg='green')\n",
    "b6_button.pack(side=BOTTOM)"
   ]
  },
  {
   "cell_type": "code",
   "execution_count": 34,
   "id": "5a61c9e3",
   "metadata": {},
   "outputs": [],
   "source": [
    "root.mainloop()"
   ]
  },
  {
   "cell_type": "code",
   "execution_count": null,
   "id": "21ff98cc",
   "metadata": {},
   "outputs": [],
   "source": []
  }
 ],
 "metadata": {
  "kernelspec": {
   "display_name": "Python 3 (ipykernel)",
   "language": "python",
   "name": "python3"
  },
  "language_info": {
   "codemirror_mode": {
    "name": "ipython",
    "version": 3
   },
   "file_extension": ".py",
   "mimetype": "text/x-python",
   "name": "python",
   "nbconvert_exporter": "python",
   "pygments_lexer": "ipython3",
   "version": "3.10.4"
  }
 },
 "nbformat": 4,
 "nbformat_minor": 5
}
