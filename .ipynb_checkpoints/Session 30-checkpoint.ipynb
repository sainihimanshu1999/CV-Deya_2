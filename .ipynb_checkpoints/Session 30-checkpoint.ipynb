{
 "cells": [
  {
   "cell_type": "code",
   "execution_count": 32,
   "id": "6d4b673c",
   "metadata": {},
   "outputs": [],
   "source": [
    "from tkinter import *"
   ]
  },
  {
   "cell_type": "code",
   "execution_count": 33,
   "id": "ccf04f31",
   "metadata": {},
   "outputs": [],
   "source": [
    "root = Tk()"
   ]
  },
  {
   "cell_type": "code",
   "execution_count": 34,
   "id": "9e0b4015",
   "metadata": {},
   "outputs": [],
   "source": [
    "def click():\n",
    "    myLabel = Label(root, text= e.get())\n",
    "    myLabel.pack()"
   ]
  },
  {
   "cell_type": "code",
   "execution_count": 35,
   "id": "4d202262",
   "metadata": {},
   "outputs": [],
   "source": [
    "btn = Button(root, text='tabby me', padx=100,pady=20, command=click)"
   ]
  },
  {
   "cell_type": "code",
   "execution_count": 36,
   "id": "1639dea2",
   "metadata": {},
   "outputs": [],
   "source": [
    "btn.pack()"
   ]
  },
  {
   "cell_type": "code",
   "execution_count": 37,
   "id": "85a39edb",
   "metadata": {},
   "outputs": [],
   "source": [
    "e  = Entry(root, width=50)\n",
    "e.pack()"
   ]
  },
  {
   "cell_type": "code",
   "execution_count": 38,
   "id": "0d3b2e74",
   "metadata": {},
   "outputs": [],
   "source": [
    "root.mainloop()"
   ]
  },
  {
   "cell_type": "code",
   "execution_count": null,
   "id": "cd580a7b",
   "metadata": {},
   "outputs": [],
   "source": []
  }
 ],
 "metadata": {
  "kernelspec": {
   "display_name": "Python 3 (ipykernel)",
   "language": "python",
   "name": "python3"
  },
  "language_info": {
   "codemirror_mode": {
    "name": "ipython",
    "version": 3
   },
   "file_extension": ".py",
   "mimetype": "text/x-python",
   "name": "python",
   "nbconvert_exporter": "python",
   "pygments_lexer": "ipython3",
   "version": "3.9.7"
  }
 },
 "nbformat": 4,
 "nbformat_minor": 5
}
