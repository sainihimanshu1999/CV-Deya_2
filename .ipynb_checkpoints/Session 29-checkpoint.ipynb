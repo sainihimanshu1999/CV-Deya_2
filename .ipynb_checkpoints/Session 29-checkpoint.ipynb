{
 "cells": [
  {
   "cell_type": "code",
   "execution_count": 1,
   "id": "d308f2b2",
   "metadata": {},
   "outputs": [],
   "source": [
    "# GUI USING TKINTER"
   ]
  },
  {
   "cell_type": "code",
   "execution_count": 3,
   "id": "83731da3",
   "metadata": {},
   "outputs": [],
   "source": [
    "from tkinter import *\n",
    "# 1st important part  is Tk\n",
    "# 2nd important part is Mainloop()"
   ]
  },
  {
   "cell_type": "code",
   "execution_count": 7,
   "id": "6bed36de",
   "metadata": {},
   "outputs": [],
   "source": [
    "deya = Tk()"
   ]
  },
  {
   "cell_type": "code",
   "execution_count": 8,
   "id": "09f19191",
   "metadata": {},
   "outputs": [],
   "source": [
    "mylabel = Label(deya, text='Hello i am deya')"
   ]
  },
  {
   "cell_type": "code",
   "execution_count": 9,
   "id": "54acee17",
   "metadata": {},
   "outputs": [],
   "source": [
    "mylabel.pack()"
   ]
  },
  {
   "cell_type": "code",
   "execution_count": 10,
   "id": "9d2ff9a8",
   "metadata": {},
   "outputs": [],
   "source": [
    "deya.mainloop()"
   ]
  },
  {
   "cell_type": "code",
   "execution_count": null,
   "id": "8a424aff",
   "metadata": {},
   "outputs": [],
   "source": []
  }
 ],
 "metadata": {
  "kernelspec": {
   "display_name": "Python 3 (ipykernel)",
   "language": "python",
   "name": "python3"
  },
  "language_info": {
   "codemirror_mode": {
    "name": "ipython",
    "version": 3
   },
   "file_extension": ".py",
   "mimetype": "text/x-python",
   "name": "python",
   "nbconvert_exporter": "python",
   "pygments_lexer": "ipython3",
   "version": "3.9.7"
  }
 },
 "nbformat": 4,
 "nbformat_minor": 5
}
