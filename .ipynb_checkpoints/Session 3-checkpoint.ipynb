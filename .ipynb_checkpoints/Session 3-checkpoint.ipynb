{
 "cells": [
  {
   "cell_type": "code",
   "execution_count": null,
   "id": "93382bfc",
   "metadata": {},
   "outputs": [],
   "source": [
    "# SESSION 22 of tkinter\n"
   ]
  },
  {
   "cell_type": "code",
   "execution_count": 1,
   "id": "91cd3df3",
   "metadata": {},
   "outputs": [],
   "source": [
    "from tkinter import *\n",
    "  \n",
    "# globally declare the expression variable \n",
    "expression = \"\" \n",
    "  \n",
    "  \n",
    "# Function to update expressiom \n",
    "# in the text entry box \n",
    "def press(num): \n",
    "    # point out the global expression variable \n",
    "    global expression \n",
    "  \n",
    "    # concatenation of string \n",
    "    expression = expression + str(num) \n",
    "  \n",
    "    # update the expression by using set method \n",
    "    equation.set(expression) \n",
    "  \n",
    "  \n",
    "def equalpress(): \n",
    "    # Try and except statement is used \n",
    "    # for handling the errors like zero \n",
    "    # division error etc. \n",
    "  \n",
    "    # Put that code inside the try block \n",
    "    # which may generate the error \n",
    "    try: \n",
    "  \n",
    "        global expression \n",
    "  \n",
    "        # eval function evaluate the expression \n",
    "        # and str function convert the result \n",
    "        # into string \n",
    "        '''\n",
    "        Evaluate the given source in the context of globals and locals.\n",
    "\n",
    "        The source may be a string representing a Python expression or a code object as returned by compile(). The globals must be a dictionary and locals can be any mapping, defaulting to the current globals and locals. If only globals is given, locals defaults to it.\n",
    "        '''\n",
    "        total = str(eval(expression)) \n",
    "  \n",
    "        equation.set(total) \n",
    "  \n",
    "        # initialze the expression variable \n",
    "        # by empty string \n",
    "        expression = \"\" \n",
    "  \n",
    "    # if error is generate then handle \n",
    "    # by the except block \n",
    "    except: \n",
    "  \n",
    "        equation.set(\" error \") \n",
    "        expression = \"\" \n",
    "  \n",
    "  \n",
    "# Function to clear the contents \n",
    "# of text entry box \n",
    "def clear(): \n",
    "    global expression \n",
    "    expression = \"\" \n",
    "    equation.set(\"\") \n",
    "  "
   ]
  },
  {
   "cell_type": "code",
   "execution_count": null,
   "id": "74657862",
   "metadata": {},
   "outputs": [],
   "source": []
  },
  {
   "cell_type": "code",
   "execution_count": null,
   "id": "f798d37b",
   "metadata": {},
   "outputs": [],
   "source": []
  },
  {
   "cell_type": "code",
   "execution_count": null,
   "id": "70e824ee",
   "metadata": {},
   "outputs": [],
   "source": []
  },
  {
   "cell_type": "code",
   "execution_count": null,
   "id": "d0a9b658",
   "metadata": {},
   "outputs": [],
   "source": []
  },
  {
   "cell_type": "code",
   "execution_count": 2,
   "id": "efbafb9c",
   "metadata": {},
   "outputs": [],
   "source": [
    "gui = Tk()"
   ]
  },
  {
   "cell_type": "code",
   "execution_count": 3,
   "id": "1b658ffe",
   "metadata": {},
   "outputs": [],
   "source": [
    "gui.configure(background=\"light green\") "
   ]
  },
  {
   "cell_type": "code",
   "execution_count": 4,
   "id": "6a97d059",
   "metadata": {},
   "outputs": [
    {
     "data": {
      "text/plain": [
       "''"
      ]
     },
     "execution_count": 4,
     "metadata": {},
     "output_type": "execute_result"
    }
   ],
   "source": [
    "gui.title(\"Simple Calculator\") \n"
   ]
  },
  {
   "cell_type": "code",
   "execution_count": 5,
   "id": "3720b2e8",
   "metadata": {},
   "outputs": [
    {
     "data": {
      "text/plain": [
       "''"
      ]
     },
     "execution_count": 5,
     "metadata": {},
     "output_type": "execute_result"
    }
   ],
   "source": [
    "gui.geometry(\"270x150\")\n",
    "\n"
   ]
  },
  {
   "cell_type": "code",
   "execution_count": 6,
   "id": "e384a173",
   "metadata": {},
   "outputs": [],
   "source": [
    "equation = StringVar()"
   ]
  },
  {
   "cell_type": "code",
   "execution_count": 7,
   "id": "67c47171",
   "metadata": {},
   "outputs": [],
   "source": [
    "expression_field = Entry(gui, textvariable=equation) "
   ]
  },
  {
   "cell_type": "code",
   "execution_count": 8,
   "id": "c6268938",
   "metadata": {},
   "outputs": [],
   "source": [
    "expression_field.grid(columnspan=4, ipadx=70) "
   ]
  },
  {
   "cell_type": "code",
   "execution_count": 9,
   "id": "df93dd92",
   "metadata": {},
   "outputs": [],
   "source": [
    "equation.set('Enter your expresssion') "
   ]
  },
  {
   "cell_type": "code",
   "execution_count": 10,
   "id": "4a9f408e",
   "metadata": {},
   "outputs": [],
   "source": [
    "button1 = Button(gui, text=' 1 ', fg='black', bg='red', \n",
    "                    command=lambda: press(1), height=1, width=7) \n",
    "button1.grid(row=2, column=0) \n",
    "\n",
    "button2 = Button(gui, text=' 2 ', fg='black', bg='red', \n",
    "                    command=lambda: press(2), height=1, width=7) \n",
    "button2.grid(row=2, column=1) \n",
    "\n",
    "button3 = Button(gui, text=' 3 ', fg='black', bg='red', \n",
    "                    command=lambda: press(3), height=1, width=7) \n",
    "button3.grid(row=2, column=2) \n",
    "\n",
    "button4 = Button(gui, text=' 4 ', fg='black', bg='red', \n",
    "                    command=lambda: press(4), height=1, width=7) \n",
    "button4.grid(row=3, column=0) \n",
    "\n",
    "button5 = Button(gui, text=' 5 ', fg='black', bg='red', \n",
    "                    command=lambda: press(5), height=1, width=7) \n",
    "button5.grid(row=3, column=1) \n",
    "\n",
    "button6 = Button(gui, text=' 6 ', fg='black', bg='red', \n",
    "                    command=lambda: press(6), height=1, width=7) \n",
    "button6.grid(row=3, column=2) \n",
    "\n",
    "button7 = Button(gui, text=' 7 ', fg='black', bg='red', \n",
    "                    command=lambda: press(7), height=1, width=7) \n",
    "button7.grid(row=4, column=0) \n",
    "\n",
    "button8 = Button(gui, text=' 8 ', fg='black', bg='red', \n",
    "                    command=lambda: press(8), height=1, width=7) \n",
    "button8.grid(row=4, column=1) \n",
    "\n",
    "button9 = Button(gui, text=' 9 ', fg='black', bg='red', \n",
    "                    command=lambda: press(9), height=1, width=7) \n",
    "button9.grid(row=4, column=2) \n",
    "\n",
    "button0 = Button(gui, text=' 0 ', fg='black', bg='red', \n",
    "                    command=lambda: press(0), height=1, width=7) \n",
    "button0.grid(row=5, column=0) \n"
   ]
  },
  {
   "cell_type": "code",
   "execution_count": 11,
   "id": "1c977dce",
   "metadata": {},
   "outputs": [],
   "source": [
    "plus = Button(gui, text=' + ', fg='black', bg='red', \n",
    "                command=lambda: press(\"+\"), height=1, width=7) \n",
    "plus.grid(row=2, column=3) \n",
    "\n",
    "minus = Button(gui, text=' - ', fg='black', bg='red', \n",
    "                command=lambda: press(\"-\"), height=1, width=7) \n",
    "minus.grid(row=3, column=3) \n",
    "\n",
    "multiply = Button(gui, text=' * ', fg='black', bg='red', \n",
    "                    command=lambda: press(\"*\"), height=1, width=7) \n",
    "multiply.grid(row=4, column=3) \n",
    "\n",
    "divide = Button(gui, text=' / ', fg='black', bg='red', \n",
    "                command=lambda: press(\"/\"), height=1, width=7) \n",
    "divide.grid(row=5, column=3) \n",
    "\n",
    "equal = Button(gui, text=' = ', fg='black', bg='red', \n",
    "                command=equalpress, height=1, width=7) \n",
    "equal.grid(row=5, column=2) \n",
    "\n",
    "clear = Button(gui, text='Clear', fg='black', bg='red', \n",
    "                command=clear, height=1, width=7) \n",
    "clear.grid(row=5, column='1') \n",
    "\n",
    "Decimal= Button(gui, text='.', fg='black', bg='red', \n",
    "                command=lambda: press('.'), height=1, width=7) \n",
    "Decimal.grid(row=6, column=0) "
   ]
  },
  {
   "cell_type": "code",
   "execution_count": null,
   "id": "61c242e3",
   "metadata": {},
   "outputs": [],
   "source": [
    "gui.mainloop(\n",
    ")"
   ]
  },
  {
   "cell_type": "code",
   "execution_count": null,
   "id": "7e056acb",
   "metadata": {},
   "outputs": [],
   "source": []
  },
  {
   "cell_type": "code",
   "execution_count": null,
   "id": "13bce13b",
   "metadata": {},
   "outputs": [],
   "source": []
  },
  {
   "cell_type": "code",
   "execution_count": null,
   "id": "6ad84468",
   "metadata": {},
   "outputs": [],
   "source": []
  },
  {
   "cell_type": "code",
   "execution_count": null,
   "id": "ef740ed3",
   "metadata": {},
   "outputs": [],
   "source": []
  },
  {
   "cell_type": "code",
   "execution_count": null,
   "id": "8967cd21",
   "metadata": {},
   "outputs": [],
   "source": []
  },
  {
   "cell_type": "code",
   "execution_count": null,
   "id": "120d6268",
   "metadata": {},
   "outputs": [],
   "source": []
  },
  {
   "cell_type": "code",
   "execution_count": null,
   "id": "790b2014",
   "metadata": {},
   "outputs": [],
   "source": []
  },
  {
   "cell_type": "code",
   "execution_count": null,
   "id": "b6f03aab",
   "metadata": {},
   "outputs": [],
   "source": []
  },
  {
   "cell_type": "code",
   "execution_count": null,
   "id": "382517c8",
   "metadata": {},
   "outputs": [],
   "source": []
  },
  {
   "cell_type": "code",
   "execution_count": null,
   "id": "aed66939",
   "metadata": {},
   "outputs": [],
   "source": []
  },
  {
   "cell_type": "code",
   "execution_count": null,
   "id": "4108f58d",
   "metadata": {},
   "outputs": [],
   "source": []
  },
  {
   "cell_type": "code",
   "execution_count": null,
   "id": "0cecb84e",
   "metadata": {},
   "outputs": [],
   "source": []
  },
  {
   "cell_type": "code",
   "execution_count": null,
   "id": "08a44420",
   "metadata": {},
   "outputs": [],
   "source": []
  }
 ],
 "metadata": {
  "kernelspec": {
   "display_name": "Python 3 (ipykernel)",
   "language": "python",
   "name": "python3"
  },
  "language_info": {
   "codemirror_mode": {
    "name": "ipython",
    "version": 3
   },
   "file_extension": ".py",
   "mimetype": "text/x-python",
   "name": "python",
   "nbconvert_exporter": "python",
   "pygments_lexer": "ipython3",
   "version": "3.10.4"
  }
 },
 "nbformat": 4,
 "nbformat_minor": 5
}
