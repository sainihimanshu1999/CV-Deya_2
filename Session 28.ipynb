{
 "cells": [
  {
   "cell_type": "code",
   "execution_count": 1,
   "id": "a88698c3",
   "metadata": {},
   "outputs": [],
   "source": [
    "#Classes revision"
   ]
  },
  {
   "cell_type": "code",
   "execution_count": 6,
   "id": "902c2f16",
   "metadata": {},
   "outputs": [],
   "source": [
    "class Deya:\n",
    "    \n",
    "    #initialization function\n",
    "    def __init__(self,name,age,number,balance):\n",
    "        self.name = name\n",
    "        self.age = age\n",
    "        self.number = number\n",
    "        self.balance = balance\n",
    "    \n",
    "    # methods are function inside the class\n",
    "    def update(self,num):\n",
    "        self.balance = self.balance + num\n",
    "        "
   ]
  },
  {
   "cell_type": "code",
   "execution_count": 7,
   "id": "8eec8456",
   "metadata": {},
   "outputs": [],
   "source": [
    "x = Deya('himanshu',22,809,20)"
   ]
  },
  {
   "cell_type": "code",
   "execution_count": 8,
   "id": "8a87de74",
   "metadata": {},
   "outputs": [
    {
     "name": "stdout",
     "output_type": "stream",
     "text": [
      "20\n"
     ]
    }
   ],
   "source": [
    "print(x.balance)"
   ]
  },
  {
   "cell_type": "code",
   "execution_count": 9,
   "id": "7d8d5305",
   "metadata": {},
   "outputs": [],
   "source": [
    "x.update(20)"
   ]
  },
  {
   "cell_type": "code",
   "execution_count": 10,
   "id": "5c1a2ee8",
   "metadata": {},
   "outputs": [
    {
     "name": "stdout",
     "output_type": "stream",
     "text": [
      "40\n"
     ]
    }
   ],
   "source": [
    "print(x.balance)"
   ]
  },
  {
   "cell_type": "code",
   "execution_count": null,
   "id": "654d3b06",
   "metadata": {},
   "outputs": [],
   "source": []
  }
 ],
 "metadata": {
  "kernelspec": {
   "display_name": "Python 3 (ipykernel)",
   "language": "python",
   "name": "python3"
  },
  "language_info": {
   "codemirror_mode": {
    "name": "ipython",
    "version": 3
   },
   "file_extension": ".py",
   "mimetype": "text/x-python",
   "name": "python",
   "nbconvert_exporter": "python",
   "pygments_lexer": "ipython3",
   "version": "3.9.7"
  }
 },
 "nbformat": 4,
 "nbformat_minor": 5
}
